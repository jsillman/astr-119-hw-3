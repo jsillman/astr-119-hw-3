{
 "cells": [
  {
   "cell_type": "code",
   "execution_count": null,
   "metadata": {},
   "outputs": [],
   "source": [
    "%matplotlib inline\n",
    "import numpy as np\n",
    "import matplotlib.pyplot as plt"
   ]
  },
  {
   "cell_type": "code",
   "execution_count": null,
   "metadata": {},
   "outputs": [],
   "source": [
    "def define_function_f(x):\n",
    "    a = 1.01\n",
    "    b = -3.04\n",
    "    c = 2.07\n",
    "    return a*x**2 + b*x + c"
   ]
  },
  {
   "cell_type": "code",
   "execution_count": null,
   "metadata": {},
   "outputs": [],
   "source": [
    "def check_values(f, x_min, x_max, tol):\n",
    "    y_min = f(x_min)\n",
    "    y_max = f(x_max)\n",
    "    #if the function never crosses zero within the range:\n",
    "    if(y_min*y_max>0.0):\n",
    "        print(\"No root found in range: [%s, %s]\" %(x_min,x_max))\n",
    "        print(\"f(%f) = %f,  f(%f) = %f\" % (x_min,y_min,x_max,y_max))\n",
    "        return 0\n",
    "    #if the minimum value lands on zero:\n",
    "    if(y_min==0 or np.fabs(y_min)<tol):\n",
    "        return 1\n",
    "    #if the maximum value lands on zero:\n",
    "    if(x_max==0 or np.fabs(y_max)<tol):\n",
    "        return 2\n",
    "    #if the root lies within the min and max values:\n",
    "    return 3"
   ]
  },
  {
   "cell_type": "code",
   "execution_count": null,
   "metadata": {},
   "outputs": [],
   "source": [
    "def bisection(f,x_min_start,x_max_start,tol):\n",
    "    x_min = x_min_start\n",
    "    x_max = x_max_start\n",
    "    x_mid = 0.0    #temp value\n",
    "    y_min = f(x_min)\n",
    "    y_max = f(x_max)\n",
    "    y_mid = 0.0    #temp value\n",
    "    \n",
    "    imax = 10000   #iterations max\n",
    "    i = 0          #iterator\n",
    "    \n",
    "    flag = check_values(f,x_min,x_max,tol)   #is the range valid?\n",
    "    if(flag==0):                             # - it doesn't contain a root\n",
    "        print(\"Error in bisection().\")\n",
    "        raise ValueError('Initial values invalid',x_min,x_max)\n",
    "    elif(flag==1):                           # - the min value is a root\n",
    "        return x_min\n",
    "    elif(flag==2):                           # - the max value is a root\n",
    "        return x_max\n",
    "                                             # - otherwise, yes\n",
    "    loop = True\n",
    "    while(loop):\n",
    "        x_mid = 0.5*(x_min+x_max)\n",
    "        y_mid = f(x_mid)\n",
    "        #check if x_mid is a root\n",
    "        if(np.fabs(y_mid)<tol):\n",
    "            loop = False\n",
    "        else:\n",
    "            #check which endpoint should be discarded from the range\n",
    "            if(f(x_min)*f(x_mid)>0):\n",
    "                x_min = x_mid\n",
    "            else:\n",
    "                x_max = x_mid\n",
    "        print(\"x_min = %s, f(x_min) = %s, x_max = %s, f(x_max) = %s\"%(x_min,f(x_min),x_max,f(x_max)))\n",
    "        i += 1\n",
    "        if(i>=imax):\n",
    "            print(\"Exceeded max number of iterations [%s]\"%(i))\n",
    "            print(\"  Min bracket f(%f) = %f\"%(x_min,f(x_min)))\n",
    "            print(\"  Max bracket f(%f) = %f\"%(x_max,f(x_max)))\n",
    "            print(\"  Mid bracket f(%f) = %f\"%(x_mid,f(x_mid)))\n",
    "            raise StopIteration('Stopping iterations after ',i)\n",
    "    \n",
    "    global i_end\n",
    "    i_end = i\n",
    "    return x_mid"
   ]
  },
  {
   "cell_type": "code",
   "execution_count": null,
   "metadata": {},
   "outputs": [],
   "source": [
    "x_min = 0.5\n",
    "x_max = 1.45\n",
    "tolerance = 1.0e-6\n",
    "\n",
    "print(\"x_min = %s, y_min = %s\"%(x_min,define_function_f(x_min)))\n",
    "print(\"x_max = %s, y_max = %s\"%(x_max,define_function_f(x_max)))\n",
    "\n",
    "x_root = bisection(define_function_f,x_min,x_max,tolerance)\n",
    "y_root = define_function_f(x_root)\n",
    "\n",
    "print(\"Root found with y(%f) = %f\"%(x_root,y_root))"
   ]
  },
  {
   "cell_type": "code",
   "execution_count": null,
   "metadata": {},
   "outputs": [],
   "source": [
    "#how many iterations did this take?\n",
    "print(str(i_end)+\" iterations\")\n",
    "print()"
   ]
  },
  {
   "cell_type": "code",
   "execution_count": null,
   "metadata": {},
   "outputs": [],
   "source": [
    "xx_min = 1.55\n",
    "xx_max = 2.5\n",
    "\n",
    "print(\"x_min = %s, y_min = %s\"%(xx_min,define_function_f(xx_min)))\n",
    "print(\"x_max = %s, y_max = %s\"%(xx_max,define_function_f(xx_max)))\n",
    "\n",
    "xx_root = bisection(define_function_f,xx_min,xx_max,tolerance)\n",
    "yy_root = define_function_f(xx_root)\n",
    "\n",
    "print(\"Root found with y(%f) = %f\"%(xx_root,yy_root))"
   ]
  },
  {
   "cell_type": "code",
   "execution_count": null,
   "metadata": {},
   "outputs": [],
   "source": [
    "#how many iterations did this take?\n",
    "print(str(i_end)+\" iterations\")\n",
    "print()"
   ]
  },
  {
   "cell_type": "code",
   "execution_count": null,
   "metadata": {},
   "outputs": [],
   "source": [
    "#make a plot of x vs f(x)\n",
    "x = np.arange(0,3,3./1000.)\n",
    "y = define_function_f(x)\n",
    "y2 = 0*x\n",
    "plt.plot(x,y2,color='black',linewidth=1)           #plot horizontal line\n",
    "plt.plot(x,y)                                      #plot f(x)\n",
    "plt.plot(x_min,define_function_f(x_min),'bo')      #plot x_min in blue\n",
    "plt.plot(x_max,define_function_f(x_max),'bo')      #plot x_max in blue\n",
    "plt.plot(x_root,y_root,'ro')                       #plot x_root in red\n",
    "plt.plot(xx_min,define_function_f(xx_min),'co')    #plot xx_min in cyan\n",
    "plt.plot(xx_max,define_function_f(xx_max),'co')    #plot xx_max in cyan\n",
    "plt.plot(xx_root,yy_root,'mo')                     #plot xx_root in magenta\n",
    "plt.xlabel('x')\n",
    "plt.ylabel('f(x)')\n",
    "plt.axis([0.,3.,-0.5,2.1])\n",
    "plt.show()"
   ]
  },
  {
   "cell_type": "code",
   "execution_count": null,
   "metadata": {},
   "outputs": [],
   "source": []
  }
 ],
 "metadata": {
  "kernelspec": {
   "display_name": "Python 3",
   "language": "python",
   "name": "python3"
  },
  "language_info": {
   "codemirror_mode": {
    "name": "ipython",
    "version": 3
   },
   "file_extension": ".py",
   "mimetype": "text/x-python",
   "name": "python",
   "nbconvert_exporter": "python",
   "pygments_lexer": "ipython3",
   "version": "3.6.5"
  }
 },
 "nbformat": 4,
 "nbformat_minor": 2
}
